{
 "cells": [
  {
   "cell_type": "code",
   "execution_count": 1,
   "id": "906b826f-ca67-4768-b4df-9ed7aca9c572",
   "metadata": {},
   "outputs": [
    {
     "name": "stdin",
     "output_type": "stream",
     "text": [
      "enter terms: 6\n"
     ]
    },
    {
     "name": "stdout",
     "output_type": "stream",
     "text": [
      "0 1 1 2 3 5 "
     ]
    }
   ],
   "source": [
    "def fib(n):\n",
    "    if n<=1:\n",
    "        return n\n",
    "    else:\n",
    "        return fib (n-1)+fib(n-2)\n",
    "num=int(input(\"enter terms:\"))\n",
    "for i in range(num):\n",
    "        print(fib(i),end=' ')"
   ]
  },
  {
   "cell_type": "code",
   "execution_count": 3,
   "id": "d31b75c6-7617-4ad4-8c6c-d08f1dabfdc6",
   "metadata": {},
   "outputs": [
    {
     "name": "stdin",
     "output_type": "stream",
     "text": [
      "enter a 4 digit number: 7654\n"
     ]
    },
    {
     "name": "stdout",
     "output_type": "stream",
     "text": [
      "sum of digits: 22\n"
     ]
    }
   ],
   "source": [
    "def dsum(n):\n",
    "    if n==0:\n",
    "        return 0\n",
    "    return n%10+temp(n//10)\n",
    "def temp(n):\n",
    "    return dsum(n)\n",
    "num=int(input(\"enter a 4 digit number:\"))\n",
    "print(\"sum of digits:\",dsum(num))\n"
   ]
  },
  {
   "cell_type": "code",
   "execution_count": 5,
   "id": "6e05f392-a2fd-488b-bffd-fb0397c2a5d3",
   "metadata": {},
   "outputs": [
    {
     "name": "stdin",
     "output_type": "stream",
     "text": [
      "enter a number: 6\n"
     ]
    },
    {
     "name": "stdout",
     "output_type": "stream",
     "text": [
      "6 is even\n"
     ]
    }
   ],
   "source": [
    "def one(n):\n",
    "    if n==0:\n",
    "        return True\n",
    "    else:    \n",
    "        return two (n-1)\n",
    "def two (n):\n",
    "    if n==0:\n",
    "        return False\n",
    "    else:\n",
    "        return one (n-1)\n",
    "num=int(input(\"enter a number:\"))\n",
    "if one (num):\n",
    "    print(num,\"is even\")\n",
    "else:\n",
    "    print(num,\"is odd\")\n"
   ]
  },
  {
   "cell_type": "code",
   "execution_count": 9,
   "id": "222eaf86-7b6c-4bc9-b278-7c68298092b6",
   "metadata": {},
   "outputs": [
    {
     "name": "stdin",
     "output_type": "stream",
     "text": [
      "enter a number: 6\n"
     ]
    },
    {
     "name": "stdout",
     "output_type": "stream",
     "text": [
      "manee 6\n",
      "pokui 5\n",
      "manee 4\n",
      "pokui 3\n",
      "manee 2\n",
      "pokui 1\n"
     ]
    }
   ],
   "source": [
    "def A(n):\n",
    "    if n<=0:\n",
    "        return\n",
    "    print(\"manee\",n)\n",
    "    B(n-1)\n",
    "def B(n):\n",
    "    if n<=0:\n",
    "        return\n",
    "    print(\"pokui\",n)\n",
    "    A(n-1)\n",
    "num=int(input(\"enter a number:\"))\n",
    "A(num)"
   ]
  },
  {
   "cell_type": "code",
   "execution_count": 15,
   "id": "c185d455-460e-42ac-bb0e-eff92e673bb9",
   "metadata": {},
   "outputs": [
    {
     "name": "stdin",
     "output_type": "stream",
     "text": [
      "enter starting number: 6\n"
     ]
    },
    {
     "name": "stdout",
     "output_type": "stream",
     "text": [
      "\n",
      " player A's turn.current number6\n"
     ]
    },
    {
     "name": "stdin",
     "output_type": "stream",
     "text": [
      "player A,subtrat 1 or 2: 1\n"
     ]
    },
    {
     "name": "stdout",
     "output_type": "stream",
     "text": [
      "\n",
      " player B's turn.current number5\n"
     ]
    },
    {
     "name": "stdin",
     "output_type": "stream",
     "text": [
      "player B,subtrat 1 or 2: 2\n"
     ]
    },
    {
     "name": "stdout",
     "output_type": "stream",
     "text": [
      "\n",
      " player A's turn.current number3\n"
     ]
    },
    {
     "name": "stdin",
     "output_type": "stream",
     "text": [
      "player A,subtrat 1 or 2: 1\n"
     ]
    },
    {
     "name": "stdout",
     "output_type": "stream",
     "text": [
      "\n",
      " player B's turn.current number2\n"
     ]
    },
    {
     "name": "stdin",
     "output_type": "stream",
     "text": [
      "player B,subtrat 1 or 2: 2\n"
     ]
    },
    {
     "name": "stdout",
     "output_type": "stream",
     "text": [
      "player A reached 0!! player A loses🤦‍♀️\n"
     ]
    }
   ],
   "source": [
    "def player_A(n):\n",
    "    if n<=0:\n",
    "        print(\"player A reached 0!! player A loses🤦‍♀️\")\n",
    "        return\n",
    "    print(f\"\\n player A's turn.current number{n}\")\n",
    "    move=int(input(\"player A,subtrat 1 or 2:\"))\n",
    "    while move not in [1,2]:\n",
    "        move=int(input(\"player A,subtrat 1 or 2:\"))\n",
    "    player_B(n-move)    \n",
    "def player_B(n):\n",
    "    if n<=0:\n",
    "        print(\"player B reached 0!! player B loses🤦‍♀️\")\n",
    "        return\n",
    "    print(f\"\\n player B's turn.current number{n}\")\n",
    "    move=int(input(\"player B,subtrat 1 or 2:\"))\n",
    "    while move not in [1,2]:\n",
    "        move=int(input(\"player B,subtrat 1 or 2:\"))\n",
    "    player_A(n-move)\n",
    "start=int(input(\"enter starting number:\"))\n",
    "player_A(start)"
   ]
  },
  {
   "cell_type": "code",
   "execution_count": null,
   "id": "2bf853b1-15d4-4bef-b684-abeca3417f24",
   "metadata": {},
   "outputs": [],
   "source": []
  }
 ],
 "metadata": {
  "kernelspec": {
   "display_name": "Python 3 (ipykernel)",
   "language": "python",
   "name": "python3"
  },
  "language_info": {
   "codemirror_mode": {
    "name": "ipython",
    "version": 3
   },
   "file_extension": ".py",
   "mimetype": "text/x-python",
   "name": "python",
   "nbconvert_exporter": "python",
   "pygments_lexer": "ipython3",
   "version": "3.12.7"
  }
 },
 "nbformat": 4,
 "nbformat_minor": 5
}
